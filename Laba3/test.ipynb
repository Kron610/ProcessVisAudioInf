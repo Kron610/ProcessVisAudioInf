{
 "cells": [
  {
   "cell_type": "code",
   "execution_count": 1,
   "metadata": {},
   "outputs": [],
   "source": [
    "from PIL import Image\n",
    "import numpy as np\n",
    "import sys\n",
    "from math import floor"
   ]
  },
  {
   "cell_type": "code",
   "execution_count": 2,
   "metadata": {},
   "outputs": [],
   "source": [
    "sys.path.insert(1, 'C:/Users/gerko/Documents/ProcessVisAudioInf/Laba1/functions')\n"
   ]
  },
  {
   "cell_type": "code",
   "execution_count": 3,
   "metadata": {},
   "outputs": [],
   "source": [
    "from semitone import change_to_semitone\n",
    "from binarisation import change_to_binary"
   ]
  },
  {
   "cell_type": "code",
   "execution_count": 4,
   "metadata": {},
   "outputs": [],
   "source": [
    "def get_Gx(image):\n",
    "    width, height = image.size\n",
    "    Gx = np.zeros((width, height)) \n",
    "    max_x = 0\n",
    "    for x in range(width):\n",
    "        for y in range (height):\n",
    "            if (x == width - 1 or y == height - 1):\n",
    "                Gx[x][y] = 0\n",
    "                continue\n",
    "            bright_x = image.getpixel((x + 1,y + 1)) - image.getpixel((x,y))\n",
    "            Gx[x][y] = bright_x\n",
    "            if (max_x < bright_x):\n",
    "                max_x = bright_x\n",
    "    return Gx, max_x"
   ]
  },
  {
   "cell_type": "code",
   "execution_count": 5,
   "metadata": {},
   "outputs": [],
   "source": [
    "def get_Gy(image):\n",
    "    width, height = image.size\n",
    "    Gy = np.zeros((width, height)) \n",
    "    max_y = 0\n",
    "    for x in range(width):\n",
    "        for y in range (height):\n",
    "            if (x == width - 1 or y == height - 1):\n",
    "                Gy[x][y] = 0\n",
    "                continue\n",
    "            bright_y = image.getpixel((x,y + 1)) - image.getpixel((x + 1,y))\n",
    "            Gy[x][y] = bright_y\n",
    "            if (max_y < bright_y):\n",
    "                max_y = bright_y\n",
    "    return Gy, max_y"
   ]
  },
  {
   "cell_type": "code",
   "execution_count": 6,
   "metadata": {},
   "outputs": [],
   "source": [
    "def get_gradient(Gx, Gy):\n",
    "    width, height = Gx.shape\n",
    "    G = np.zeros((width, height))\n",
    "    max_g = 0\n",
    "    for x in range(width):\n",
    "        for y in range(height):\n",
    "            G[x][y] = abs(Gy[x][y]) + abs(Gx[x][y])\n",
    "            if (max_g < G[x][y]):\n",
    "                max_g = G[x][y]\n",
    "    return G, max_g"
   ]
  },
  {
   "cell_type": "code",
   "execution_count": 7,
   "metadata": {},
   "outputs": [],
   "source": [
    "def get_normalize(matrix, max_value):\n",
    "    width, height = matrix.shape\n",
    "    new_image = Image.new('P', (width, height))\n",
    "    for x in range(width):\n",
    "        for y in range(height):\n",
    "            value = floor(matrix[x][y] * 255 / max_value)\n",
    "            new_image.putpixel((x,y), value)\n",
    "    return new_image"
   ]
  },
  {
   "cell_type": "code",
   "execution_count": 8,
   "metadata": {},
   "outputs": [],
   "source": [
    "def binary(image, threshold):\n",
    "    width, height = image.size\n",
    "    binary_image = Image.new('1', (width, height)) \n",
    "    for x in range(width):\n",
    "        for y in range(height):\n",
    "            if (image.getpixel((x,y)) < threshold):\n",
    "                binary_image.putpixel((x,y), 0)\n",
    "            else:\n",
    "                binary_image.putpixel((x,y), 1)\n",
    "    return binary_image"
   ]
  },
  {
   "cell_type": "code",
   "execution_count": 41,
   "metadata": {},
   "outputs": [],
   "source": [
    "image = change_to_semitone(Image.open(\"pictures/text.bmp\"))"
   ]
  },
  {
   "cell_type": "code",
   "execution_count": 42,
   "metadata": {},
   "outputs": [],
   "source": [
    "Gx, max_x = get_Gx(image)"
   ]
  },
  {
   "cell_type": "code",
   "execution_count": 43,
   "metadata": {},
   "outputs": [],
   "source": [
    "Gy, max_y = get_Gy(image)"
   ]
  },
  {
   "cell_type": "code",
   "execution_count": 44,
   "metadata": {},
   "outputs": [],
   "source": [
    "G, max_g = get_gradient(Gx, Gy)\n"
   ]
  },
  {
   "cell_type": "code",
   "execution_count": 45,
   "metadata": {},
   "outputs": [],
   "source": [
    "Gx_image = get_normalize(Gx, max_x)\n",
    "Gy_image = get_normalize(Gy, max_y)\n",
    "G_image = get_normalize(G, max_g)"
   ]
  },
  {
   "cell_type": "code",
   "execution_count": 50,
   "metadata": {},
   "outputs": [],
   "source": [
    "binary_image = binary(G_image, 64)"
   ]
  },
  {
   "cell_type": "code",
   "execution_count": 51,
   "metadata": {},
   "outputs": [],
   "source": [
    "binary_image.show()\n"
   ]
  },
  {
   "cell_type": "code",
   "execution_count": 52,
   "metadata": {},
   "outputs": [],
   "source": [
    "binary_image.save(\"pictures/text_binary_gradient.png\")"
   ]
  },
  {
   "cell_type": "code",
   "execution_count": 53,
   "metadata": {},
   "outputs": [],
   "source": [
    "Gx_image.save(\"pictures/text_Gx.png\")"
   ]
  },
  {
   "cell_type": "code",
   "execution_count": 54,
   "metadata": {},
   "outputs": [],
   "source": [
    "Gy_image.save(\"pictures/text_Gy.png\")"
   ]
  },
  {
   "cell_type": "code",
   "execution_count": 55,
   "metadata": {},
   "outputs": [],
   "source": [
    "G_image.save(\"pictures/text_G.png\")"
   ]
  },
  {
   "cell_type": "code",
   "execution_count": null,
   "metadata": {},
   "outputs": [],
   "source": []
  }
 ],
 "metadata": {
  "kernelspec": {
   "display_name": "Python 3",
   "language": "python",
   "name": "python3"
  },
  "language_info": {
   "codemirror_mode": {
    "name": "ipython",
    "version": 3
   },
   "file_extension": ".py",
   "mimetype": "text/x-python",
   "name": "python",
   "nbconvert_exporter": "python",
   "pygments_lexer": "ipython3",
   "version": "3.6.5"
  }
 },
 "nbformat": 4,
 "nbformat_minor": 2
}
