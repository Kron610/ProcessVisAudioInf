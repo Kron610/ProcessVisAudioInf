{
 "cells": [
  {
   "cell_type": "code",
   "execution_count": 1,
   "metadata": {},
   "outputs": [],
   "source": [
    "from PIL import Image, ImageDraw\n",
    "from math import floor, sqrt\n",
    "import numpy as np\n",
    "import scipy.stats as stats"
   ]
  },
  {
   "cell_type": "code",
   "execution_count": 2,
   "metadata": {},
   "outputs": [],
   "source": [
    "M = 3\n",
    "N = 5"
   ]
  },
  {
   "cell_type": "code",
   "execution_count": 3,
   "metadata": {},
   "outputs": [],
   "source": [
    "def change_size(image, coefficient, format_ = 'RGBA'):\n",
    "    width, height = image.size\n",
    "    new_width = floor(width * coefficient)\n",
    "    new_height = floor(height * coefficient)\n",
    "    newImage = Image.new(format_, (new_width, new_height)) \n",
    "    for x in range(new_width):\n",
    "        for y in range(new_height):\n",
    "            newImage.putpixel((x, y), image.getpixel((floor(x / coefficient), floor(y / coefficient))))\n",
    "    return newImage"
   ]
  },
  {
   "cell_type": "code",
   "execution_count": 4,
   "metadata": {},
   "outputs": [],
   "source": [
    "def change_to_semitone(image):\n",
    "    width, height = image.size\n",
    "    newImage = Image.new('P', (width, height))\n",
    "    for x in range(width):\n",
    "        for y in range(height):\n",
    "            color = image.getpixel((x,y))\n",
    "            bright = floor(0.3 * color[0] + 0.59 * color[1] +  0.11 *color[2])\n",
    "            newImage.putpixel((x, y), bright)\n",
    "    return newImage"
   ]
  },
  {
   "cell_type": "code",
   "execution_count": 5,
   "metadata": {},
   "outputs": [],
   "source": [
    "def get_integral_image(image):\n",
    "    width, height = image.size\n",
    "    integral_image = np.zeros((height, width))\n",
    "    for i in range(height):\n",
    "        sum_ = 0\n",
    "        for j in range(width):\n",
    "            sum_ += image.getpixel((j, i))\n",
    "            if (i == 0):\n",
    "                integral_image[i][j] = sum_\n",
    "            else:\n",
    "                integral_image[i][j] = integral_image[i-1][j] + sum_\n",
    "    return integral_image"
   ]
  },
  {
   "cell_type": "code",
   "execution_count": 6,
   "metadata": {},
   "outputs": [],
   "source": [
    "def get_matrices(matrix_image, integral_image):\n",
    "    height, width = matrix_image.shape\n",
    "    M = np.zeros((height, width))\n",
    "    stdev = np.zeros((height, width))\n",
    "    r = 15\n",
    "    s2 = r // 2\n",
    "    for i in range(height):\n",
    "        for j in range(width):\n",
    "            x1 = j - s2\n",
    "            x2 = j + s2\n",
    "            y1 = i - s2\n",
    "            y2 = i + s2\n",
    "        \n",
    "            if (x1 < 0):\n",
    "                x1 = 0\n",
    "            \n",
    "            if (x2 >= width):\n",
    "                x2 = width - 1\n",
    "            \n",
    "            if (y1 < 0):\n",
    "                y1 = 0\n",
    "            \n",
    "            if (y2 >= height):\n",
    "                y2 = height - 1\n",
    "            \n",
    "            count = (x2 - x1) * (y2 - y1)\n",
    "            sum_ = integral_image[y2][x2] - integral_image[y1][x2] - integral_image[y2][x1] + integral_image[y1][x1]\n",
    "            M[i][j] = floor(sum_ / count)\n",
    "            aperture = matrix_image[y1:y2+1,x1:x2+1]\n",
    "            stdev[i][j] = floor(sqrt(stats.describe(aperture.flatten())[3]))\n",
    "    \n",
    "    return M, stdev"
   ]
  },
  {
   "cell_type": "code",
   "execution_count": 7,
   "metadata": {},
   "outputs": [],
   "source": [
    "def change_to_binary(image, N):\n",
    "    new_image = change_size(image, 1/N, 'P')\n",
    "    matrix_image = np.array(new_image, dtype = 'uint32')\n",
    "    width, height = new_image.size\n",
    "    integral_image = get_integral_image(new_image)\n",
    "    M, stdev = get_matrices(matrix_image, integral_image)         \n",
    "    bottom_bound, upper_bound = stats.describe(M.flatten())[1]    \n",
    "    binary_image = Image.new('1', (width, height))    \n",
    "    for i in range(height):\n",
    "        for j in range(width):\n",
    "            if (matrix_image[i][j] < bottom_bound):\n",
    "                binary_image.putpixel((j, i), 0)\n",
    "            else:\n",
    "                if (matrix_image[i][j] > upper_bound):\n",
    "                    binary_image.putpixel((j, i), 1)\n",
    "                else:\n",
    "                    t = M[i][j] - 0.2 * stdev[i][j]\n",
    "                    if (matrix_image[i][j] > t):\n",
    "                        binary_image.putpixel((j, i), 1)\n",
    "                    else:\n",
    "                        binary_image.putpixel((j, i), 0)\n",
    "    \n",
    "    return binary_image"
   ]
  },
  {
   "cell_type": "markdown",
   "metadata": {},
   "source": [
    "1) Растяжение изображения в M раз"
   ]
  },
  {
   "cell_type": "code",
   "execution_count": 8,
   "metadata": {},
   "outputs": [],
   "source": [
    "WallE_image = Image.open(\"pictures/WallE/WallE.bmp\")"
   ]
  },
  {
   "cell_type": "code",
   "execution_count": 9,
   "metadata": {},
   "outputs": [],
   "source": [
    "new_WallE_image = change_size(WallE_image, M)"
   ]
  },
  {
   "cell_type": "code",
   "execution_count": 10,
   "metadata": {},
   "outputs": [],
   "source": [
    "new_WallE_image.save(\"pictures/WallE/newWallE.bmp\")"
   ]
  },
  {
   "cell_type": "markdown",
   "metadata": {},
   "source": [
    "2) Сжатие изображения в N раз\n"
   ]
  },
  {
   "cell_type": "code",
   "execution_count": 11,
   "metadata": {},
   "outputs": [],
   "source": [
    "Elsa_image = Image.open(\"pictures/Elsa/Elsa.bmp\")"
   ]
  },
  {
   "cell_type": "code",
   "execution_count": 12,
   "metadata": {},
   "outputs": [],
   "source": [
    "new_Elsa_image = change_size(Elsa_image, 1/N)"
   ]
  },
  {
   "cell_type": "code",
   "execution_count": 13,
   "metadata": {},
   "outputs": [],
   "source": [
    "new_Elsa_image.save(\"pictures/Elsa/newElsa.bmp\")"
   ]
  },
  {
   "cell_type": "markdown",
   "metadata": {},
   "source": [
    "3) Передискретизация изображения в K=M/N раз путём растяжения и\n",
    "последующего сжатия"
   ]
  },
  {
   "cell_type": "code",
   "execution_count": 14,
   "metadata": {},
   "outputs": [],
   "source": [
    "TLOFTR_image = Image.open(\"pictures/TheLordOfTheRings/TheLordOfTheRings.bmp\")"
   ]
  },
  {
   "cell_type": "code",
   "execution_count": 15,
   "metadata": {},
   "outputs": [],
   "source": [
    "new_TLOFTR_image = change_size(TLOFTR_image, M)"
   ]
  },
  {
   "cell_type": "code",
   "execution_count": 16,
   "metadata": {},
   "outputs": [],
   "source": [
    "new_TLOFTR_image = change_size(new_TLOFTR_image, 1/N)"
   ]
  },
  {
   "cell_type": "code",
   "execution_count": 17,
   "metadata": {},
   "outputs": [],
   "source": [
    "new_TLOFTR_image.save(\"pictures/TheLordOfTheRings/newTheLordOfTheRings.bmp\")"
   ]
  },
  {
   "cell_type": "markdown",
   "metadata": {},
   "source": [
    "4) Передискретизация изображения в K раз за один проход."
   ]
  },
  {
   "cell_type": "code",
   "execution_count": 18,
   "metadata": {},
   "outputs": [],
   "source": [
    "Vinni_Puh_image = Image.open(\"pictures/VinniPuh/VinniPuh.bmp\")"
   ]
  },
  {
   "cell_type": "code",
   "execution_count": 19,
   "metadata": {},
   "outputs": [],
   "source": [
    "new_Vinni_Puh_image = change_size(Vinni_Puh_image, M/N)"
   ]
  },
  {
   "cell_type": "code",
   "execution_count": 20,
   "metadata": {},
   "outputs": [],
   "source": [
    "new_Vinni_Puh_image.save(\"pictures/VinniPuh/new_VinniPuh.bmp\")"
   ]
  },
  {
   "cell_type": "code",
   "execution_count": null,
   "metadata": {},
   "outputs": [],
   "source": []
  },
  {
   "cell_type": "markdown",
   "metadata": {},
   "source": [
    "Приведение полноцветного изображения к полутоновому."
   ]
  },
  {
   "cell_type": "code",
   "execution_count": 21,
   "metadata": {},
   "outputs": [],
   "source": [
    "Disgusting_Men_image = Image.open(\"pictures/DisgustingMen/DisgustingMen.bmp\")"
   ]
  },
  {
   "cell_type": "code",
   "execution_count": 22,
   "metadata": {},
   "outputs": [],
   "source": [
    "new_Disgusting_Men_image = change_to_semitone(Disgusting_Men_image)"
   ]
  },
  {
   "cell_type": "code",
   "execution_count": 23,
   "metadata": {},
   "outputs": [],
   "source": [
    "new_Disgusting_Men_image.save(\"pictures/DisgustingMen/newDisgustingMen.bmp\")"
   ]
  },
  {
   "cell_type": "code",
   "execution_count": 24,
   "metadata": {},
   "outputs": [],
   "source": [
    "text_image = Image.open(\"pictures/text/text.bmp\")"
   ]
  },
  {
   "cell_type": "code",
   "execution_count": 25,
   "metadata": {},
   "outputs": [],
   "source": [
    "new_text_image = change_to_semitone(text_image)"
   ]
  },
  {
   "cell_type": "code",
   "execution_count": 26,
   "metadata": {},
   "outputs": [],
   "source": [
    "new_text_image.save(\"pictures/text/new_text.bmp\")"
   ]
  },
  {
   "cell_type": "markdown",
   "metadata": {},
   "source": [
    "Приведение полутонового изображения к монохромному методом пороговой\n",
    "обработки. Алгоритм адаптивной бинаризации Ниблэка."
   ]
  },
  {
   "cell_type": "code",
   "execution_count": 27,
   "metadata": {},
   "outputs": [],
   "source": [
    "binary_image = change_to_binary(new_text_image, 4)"
   ]
  },
  {
   "cell_type": "code",
   "execution_count": 28,
   "metadata": {},
   "outputs": [],
   "source": [
    "binary_image.show()"
   ]
  },
  {
   "cell_type": "code",
   "execution_count": 30,
   "metadata": {},
   "outputs": [],
   "source": [
    "binary_image.save(\"pictures/text/binary_text_image.bmp\")"
   ]
  },
  {
   "cell_type": "code",
   "execution_count": null,
   "metadata": {},
   "outputs": [],
   "source": []
  }
 ],
 "metadata": {
  "kernelspec": {
   "display_name": "Python 3",
   "language": "python",
   "name": "python3"
  },
  "language_info": {
   "codemirror_mode": {
    "name": "ipython",
    "version": 3
   },
   "file_extension": ".py",
   "mimetype": "text/x-python",
   "name": "python",
   "nbconvert_exporter": "python",
   "pygments_lexer": "ipython3",
   "version": "3.6.5"
  }
 },
 "nbformat": 4,
 "nbformat_minor": 2
}
