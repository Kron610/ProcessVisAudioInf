{
 "cells": [
  {
   "cell_type": "code",
   "execution_count": 1,
   "metadata": {},
   "outputs": [],
   "source": [
    "from PIL import Image, ImageFont, ImageDraw"
   ]
  },
  {
   "cell_type": "code",
   "execution_count": 2,
   "metadata": {},
   "outputs": [],
   "source": [
    "from math import floor"
   ]
  },
  {
   "cell_type": "code",
   "execution_count": 3,
   "metadata": {},
   "outputs": [],
   "source": [
    "import matplotlib.pyplot as plt\n",
    "from matplotlib import transforms"
   ]
  },
  {
   "cell_type": "code",
   "execution_count": 4,
   "metadata": {},
   "outputs": [],
   "source": [
    "def binary(image, threshold):\n",
    "    width, height = image.size\n",
    "    binary_image = Image.new('1', (width, height)) \n",
    "    for x in range(width):\n",
    "        for y in range(height):\n",
    "            if (image.getpixel((x,y)) < threshold):\n",
    "                binary_image.putpixel((x,y), 0)\n",
    "            else:\n",
    "                binary_image.putpixel((x,y), 1)\n",
    "    return binary_image"
   ]
  },
  {
   "cell_type": "code",
   "execution_count": 5,
   "metadata": {},
   "outputs": [],
   "source": [
    "def change_to_semitone(image):\n",
    "    width, height = image.size\n",
    "    newImage = Image.new('P', (width, height))\n",
    "    for x in range(width):\n",
    "        for y in range(height):\n",
    "            color = image.getpixel((x,y))\n",
    "            bright = floor(0.3 * color[0] + 0.59 * color[1] +  0.11 *color[2])\n",
    "            newImage.putpixel((x, y), bright)\n",
    "    return newImage"
   ]
  },
  {
   "cell_type": "code",
   "execution_count": 6,
   "metadata": {},
   "outputs": [],
   "source": [
    "def crop(image):\n",
    "    width, height = image.size\n",
    "    flag = False\n",
    "    left_boarder = 0\n",
    "    right_boarder = width - 1\n",
    "    top_boarder = 0\n",
    "    bottom_boarder = height - 1\n",
    "    for x in range(width):\n",
    "        if (flag):\n",
    "            left_boarder = x - 1\n",
    "            break\n",
    "        for y in range(height):\n",
    "            if (image.getpixel((x,y)) == 0):\n",
    "                flag = True\n",
    "                break\n",
    "    flag = False\n",
    "    for x in range(width-1, -1, -1):\n",
    "        if (flag):\n",
    "            right_boarder = x + 2\n",
    "            break\n",
    "        for y in range(height):\n",
    "            if (image.getpixel((x,y)) == 0):\n",
    "                flag = True\n",
    "                break\n",
    "    flag = False\n",
    "    for y in range(height):\n",
    "        if (flag):\n",
    "            top_boarder = y - 1\n",
    "            break\n",
    "        for x in range(width):\n",
    "            if (image.getpixel((x,y)) == 0):\n",
    "                flag = True\n",
    "                break\n",
    "    flag = False\n",
    "    for y in range(height - 1, -1 , -1):\n",
    "        if (flag):\n",
    "            bottom_boarder = y + 2\n",
    "            break\n",
    "        for x in range(width):\n",
    "            if (image.getpixel((x,y)) == 0):\n",
    "                flag = True\n",
    "                break\n",
    "    area = (left_boarder, top_boarder, right_boarder, bottom_boarder)\n",
    "    cropped_image = image.crop(area)\n",
    "    return cropped_image"
   ]
  },
  {
   "cell_type": "code",
   "execution_count": 7,
   "metadata": {},
   "outputs": [],
   "source": [
    "def foo(item):\n",
    "    if (item == 255):\n",
    "        return 1\n",
    "    return 0"
   ]
  },
  {
   "cell_type": "code",
   "execution_count": 33,
   "metadata": {},
   "outputs": [],
   "source": [
    "image = Image.open(\"pictures/string3.png\")\n"
   ]
  },
  {
   "cell_type": "code",
   "execution_count": 34,
   "metadata": {},
   "outputs": [],
   "source": [
    "new_image = binary(change_to_semitone(image), 150)"
   ]
  },
  {
   "cell_type": "code",
   "execution_count": 35,
   "metadata": {},
   "outputs": [],
   "source": [
    "new_image = crop(new_image)"
   ]
  },
  {
   "cell_type": "code",
   "execution_count": 36,
   "metadata": {},
   "outputs": [],
   "source": [
    "new_image.save(\"pictures/cropped_text3.bmp\")"
   ]
  },
  {
   "cell_type": "code",
   "execution_count": 37,
   "metadata": {},
   "outputs": [],
   "source": [
    "new_image.show()"
   ]
  },
  {
   "cell_type": "code",
   "execution_count": 38,
   "metadata": {},
   "outputs": [],
   "source": [
    "width, height = new_image.size"
   ]
  },
  {
   "cell_type": "code",
   "execution_count": 14,
   "metadata": {
    "scrolled": false
   },
   "outputs": [
    {
     "data": {
      "text/plain": [
       "<Figure size 432x288 with 0 Axes>"
      ]
     },
     "metadata": {},
     "output_type": "display_data"
    }
   ],
   "source": [
    "x_matrix = range(width)\n",
    "y_matrix = [sum([1 - new_image.getpixel((x,y)) for y in range(height)]) for x in range(width)]\n",
    "plt.axis('off')\n",
    "plt.plot(x_matrix, y_matrix, color = 'green')\n",
    "plt.fill_between(x_matrix, [0 for _ in range(width)], y_matrix, facecolor = 'green')\n",
    "plt.savefig(\"pictures/Xprofile2.png\")\n",
    "plt.clf()"
   ]
  },
  {
   "cell_type": "code",
   "execution_count": 15,
   "metadata": {},
   "outputs": [
    {
     "data": {
      "text/plain": [
       "<Figure size 432x288 with 0 Axes>"
      ]
     },
     "metadata": {},
     "output_type": "display_data"
    }
   ],
   "source": [
    "    x_matrix = range(height)\n",
    "    y_matrix = [sum([1 - new_image.getpixel((x,y)) for x in range(width)]) for y in range(height)]\n",
    "    plt.axis('off')\n",
    "    plt.plot(x_matrix, y_matrix, color = 'red', scalex=False, scaley=False)\n",
    "    plt.fill_between(x_matrix, [0 for _ in range(height)], y_matrix, facecolor = 'red')\n",
    "    plt.savefig(\"pictures/Yprofile2.png\")\n",
    "    plt.clf()\n",
    "    image = Image.open(\"pictures/Yprofile2.png\")\n",
    "    image.transpose(Image.ROTATE_270).save(\"pictures/Yprofile2.png\")"
   ]
  },
  {
   "cell_type": "code",
   "execution_count": 39,
   "metadata": {},
   "outputs": [],
   "source": [
    "boundaries = []"
   ]
  },
  {
   "cell_type": "code",
   "execution_count": 40,
   "metadata": {},
   "outputs": [],
   "source": [
    "x_matrix = range(width)\n",
    "y_matrix = [sum([1 - new_image.getpixel((x,y)) for y in range(height)]) for x in range(width)]"
   ]
  },
  {
   "cell_type": "code",
   "execution_count": 41,
   "metadata": {},
   "outputs": [],
   "source": [
    "left = 0\n",
    "flag = True\n",
    "for item in x_matrix:\n",
    "    if(item == len(x_matrix) - 1):\n",
    "        if (flag):\n",
    "            right = item\n",
    "            boundaries.append((left, right))\n",
    "        break\n",
    "    if (flag):\n",
    "        if(y_matrix[item] > 1 and (y_matrix[item+1] == 0 or y_matrix[item+1] == 1)):\n",
    "            right = item\n",
    "            boundaries.append((left,right))\n",
    "            flag = False\n",
    "    else:\n",
    "        if ((y_matrix[item] == 0 or y_matrix[item] == 1) and y_matrix[item+1] > 1):\n",
    "            left = item\n",
    "            flag = True\n",
    "        \n",
    "        \n",
    "    "
   ]
  },
  {
   "cell_type": "code",
   "execution_count": 42,
   "metadata": {},
   "outputs": [
    {
     "data": {
      "text/plain": [
       "[(0, 23),\n",
       " (28, 51),\n",
       " (54, 76),\n",
       " (78, 101),\n",
       " (105, 122),\n",
       " (127, 146),\n",
       " (148, 169),\n",
       " (173, 196),\n",
       " (202, 206),\n",
       " (212, 232),\n",
       " (234, 256),\n",
       " (261, 281),\n",
       " (285, 308),\n",
       " (310, 329),\n",
       " (331, 354),\n",
       " (356, 387),\n",
       " (391, 413),\n",
       " (417, 444),\n",
       " (446, 463),\n",
       " (467, 487),\n",
       " (492, 519),\n",
       " (521, 544),\n",
       " (548, 576),\n",
       " (581, 614)]"
      ]
     },
     "execution_count": 42,
     "metadata": {},
     "output_type": "execute_result"
    }
   ],
   "source": [
    "boundaries"
   ]
  },
  {
   "cell_type": "code",
   "execution_count": 43,
   "metadata": {},
   "outputs": [
    {
     "data": {
      "text/plain": [
       "24"
      ]
     },
     "execution_count": 43,
     "metadata": {},
     "output_type": "execute_result"
    }
   ],
   "source": [
    "len(boundaries)"
   ]
  },
  {
   "cell_type": "code",
   "execution_count": 44,
   "metadata": {},
   "outputs": [],
   "source": [
    "coords = []"
   ]
  },
  {
   "cell_type": "code",
   "execution_count": 45,
   "metadata": {},
   "outputs": [],
   "source": [
    "def get_coords(boundaries, image):\n",
    "    for item in boundaries:\n",
    "        flag = False\n",
    "        for y in range(height):\n",
    "            if (flag):\n",
    "                top_boarder = y - 1\n",
    "                break\n",
    "            for x in range(item[0], item[1] + 1):\n",
    "                if (new_image.getpixel((x,y)) == 0):\n",
    "                    flag = True\n",
    "                    break\n",
    "        flag = False\n",
    "        for y in range(height - 1, -1 , -1):\n",
    "            if (flag):\n",
    "                bottom_boarder = y + 1\n",
    "                break\n",
    "            for x in range(item[0], item[1] + 1):\n",
    "                if (new_image.getpixel((x,y)) == 0):\n",
    "                    flag = True\n",
    "                    break\n",
    "        coords.append([item[0], top_boarder, item[1], bottom_boarder])\n",
    "    return coords\n"
   ]
  },
  {
   "cell_type": "code",
   "execution_count": 46,
   "metadata": {},
   "outputs": [],
   "source": [
    "test_image = new_image.convert(\"RGB\")"
   ]
  },
  {
   "cell_type": "code",
   "execution_count": 47,
   "metadata": {},
   "outputs": [],
   "source": [
    "draw = ImageDraw.Draw(test_image)\n",
    "    "
   ]
  },
  {
   "cell_type": "code",
   "execution_count": 48,
   "metadata": {},
   "outputs": [],
   "source": [
    "for item in coords:\n",
    "    draw.rectangle(item, outline = \"red\")"
   ]
  },
  {
   "cell_type": "code",
   "execution_count": 49,
   "metadata": {},
   "outputs": [],
   "source": [
    "test_image.show()"
   ]
  },
  {
   "cell_type": "code",
   "execution_count": 31,
   "metadata": {},
   "outputs": [],
   "source": [
    "test_image.save(\"pictures/processed_picture2.bmp\")"
   ]
  },
  {
   "cell_type": "code",
   "execution_count": 50,
   "metadata": {},
   "outputs": [],
   "source": [
    "with open (\"coords3.txt\", 'w') as file:\n",
    "    for item in coords:\n",
    "        for element in item:\n",
    "            file.write(str(element) + ' ')\n",
    "        file.write(\"\\n\")\n",
    "    "
   ]
  },
  {
   "cell_type": "code",
   "execution_count": null,
   "metadata": {},
   "outputs": [],
   "source": []
  }
 ],
 "metadata": {
  "kernelspec": {
   "display_name": "Python 3",
   "language": "python",
   "name": "python3"
  },
  "language_info": {
   "codemirror_mode": {
    "name": "ipython",
    "version": 3
   },
   "file_extension": ".py",
   "mimetype": "text/x-python",
   "name": "python",
   "nbconvert_exporter": "python",
   "pygments_lexer": "ipython3",
   "version": "3.6.5"
  }
 },
 "nbformat": 4,
 "nbformat_minor": 2
}
