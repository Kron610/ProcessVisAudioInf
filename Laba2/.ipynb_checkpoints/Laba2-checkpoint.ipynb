{
 "cells": [
  {
   "cell_type": "code",
   "execution_count": 21,
   "metadata": {
    "scrolled": true
   },
   "outputs": [],
   "source": [
    "from PIL import Image\n",
    "import numpy as np\n",
    "from math import floor"
   ]
  },
  {
   "cell_type": "code",
   "execution_count": 23,
   "metadata": {},
   "outputs": [],
   "source": [
    "aperture_size = 3"
   ]
  },
  {
   "cell_type": "code",
   "execution_count": 24,
   "metadata": {},
   "outputs": [],
   "source": [
    "def dilation(image):\n",
    "    width, height = image.size\n",
    "    new_image = Image.new('P', (width, height)) \n",
    "    s2 = aperture_size // 2\n",
    "    matrix_image = np.array(image, dtype = 'uint32')\n",
    "    for i in range(height):\n",
    "        for j in range(width):\n",
    "            x1 = j - s2\n",
    "            x2 = j + s2\n",
    "            y1 = i - s2\n",
    "            y2 = i + s2\n",
    "        \n",
    "            if (x1 < 0):\n",
    "                x1 = 0\n",
    "            \n",
    "            if (x2 >= width):\n",
    "                x2 = width - 1\n",
    "            \n",
    "            if (y1 < 0):\n",
    "                y1 = 0\n",
    "            \n",
    "            if (y2 >= height):\n",
    "                y2 = height - 1\n",
    "                \n",
    "            aperture = matrix_image[y1:y2+1,x1:x2+1]\n",
    "            value = max(aperture.flatten())\n",
    "            new_image.putpixel((j, i), int(value))\n",
    "    return new_image"
   ]
  },
  {
   "cell_type": "code",
   "execution_count": 25,
   "metadata": {},
   "outputs": [],
   "source": [
    "def erosion(image):\n",
    "    width, height = image.size\n",
    "    new_image = Image.new('P', (width, height)) \n",
    "    s2 = aperture_size // 2\n",
    "    matrix_image = np.array(image, dtype = 'uint32')\n",
    "    for i in range(height):\n",
    "        for j in range(width):\n",
    "            x1 = j - s2\n",
    "            x2 = j + s2\n",
    "            y1 = i - s2\n",
    "            y2 = i + s2\n",
    "        \n",
    "            if (x1 < 0):\n",
    "                x1 = 0\n",
    "            \n",
    "            if (x2 >= width):\n",
    "                x2 = width - 1\n",
    "            \n",
    "            if (y1 < 0):\n",
    "                y1 = 0\n",
    "            \n",
    "            if (y2 >= height):\n",
    "                y2 = height - 1\n",
    "                \n",
    "            aperture = matrix_image[y1:y2+1,x1:x2+1]\n",
    "            value = min(aperture.flatten())\n",
    "            new_image.putpixel((j, i), int(value))\n",
    "    return new_image"
   ]
  },
  {
   "cell_type": "code",
   "execution_count": 26,
   "metadata": {},
   "outputs": [],
   "source": [
    "def closing(image):\n",
    "    new_image = dilation(image)\n",
    "    return erosion(new_image)"
   ]
  },
  {
   "cell_type": "code",
   "execution_count": 27,
   "metadata": {},
   "outputs": [],
   "source": [
    "def different(image, new_image):\n",
    "    width, height = image.size\n",
    "    dif_image = Image.new('P', (width, height))\n",
    "    for x in range(width):\n",
    "        for y in range(height):\n",
    "            dif_image.putpixel((x, y), abs(image.getpixel((x,y)) - new_image.getpixel((x,y))))\n",
    "    return dif_image"
   ]
  },
  {
   "cell_type": "code",
   "execution_count": 28,
   "metadata": {},
   "outputs": [],
   "source": [
    "text_image = Image.open(\"pictures/new_text.bmp\")"
   ]
  },
  {
   "cell_type": "code",
   "execution_count": 29,
   "metadata": {},
   "outputs": [],
   "source": [
    "new_image = closing(text_image)\n",
    "new_image.save(\"pictures/closing_text.bmp\")\n",
    "new_image.show()\n",
    "text_differ = different(text_image, new_image)\n",
    "text_differ.save(\"pictures/text_differ.bmp\")\n",
    "text_differ.show()"
   ]
  },
  {
   "cell_type": "code",
   "execution_count": 30,
   "metadata": {},
   "outputs": [],
   "source": [
    "Disgusting_Men = Image.open(\"pictures/newDisgustingMen.bmp\")\n"
   ]
  },
  {
   "cell_type": "code",
   "execution_count": 31,
   "metadata": {},
   "outputs": [],
   "source": [
    "new_Disgusting_Men = closing(Disgusting_Men)\n",
    "new_Disgusting_Men.save(\"pictures/closingDisgustingMen.bmp\")\n",
    "new_Disgusting_Men.show()\n",
    "Disgusting_Men_differ = different(Disgusting_Men, new_Disgusting_Men)\n",
    "Disgusting_Men_differ.save(\"pictures/DisgustingMenDiffer.bmp\")"
   ]
  },
  {
   "cell_type": "code",
   "execution_count": 32,
   "metadata": {},
   "outputs": [],
   "source": [
    "Disgusting_Men_differ.show()"
   ]
  },
  {
   "cell_type": "code",
   "execution_count": 33,
   "metadata": {},
   "outputs": [],
   "source": [
    "woman_picture = Image.open(\"pictures/woman_picture.bmp\")"
   ]
  },
  {
   "cell_type": "code",
   "execution_count": 35,
   "metadata": {},
   "outputs": [],
   "source": [
    "new_woman_picture = closing(woman_picture)\n",
    "new_woman_picture.save(\"pictures/closingwoman_picture.bmp\")\n",
    "new_woman_picture.show()\n",
    "woman_picture_differ = different(woman_picture, new_woman_picture)\n",
    "woman_picture_differ.save(\"pictures/woman_picture_differ.bmp\")\n",
    "woman_picture_differ.show()"
   ]
  },
  {
   "cell_type": "code",
   "execution_count": 36,
   "metadata": {},
   "outputs": [],
   "source": [
    "woman_picture.save(\"pictures/woman_picture.bmp\")"
   ]
  },
  {
   "cell_type": "code",
   "execution_count": null,
   "metadata": {},
   "outputs": [],
   "source": []
  }
 ],
 "metadata": {
  "kernelspec": {
   "display_name": "Python 3",
   "language": "python",
   "name": "python3"
  },
  "language_info": {
   "codemirror_mode": {
    "name": "ipython",
    "version": 3
   },
   "file_extension": ".py",
   "mimetype": "text/x-python",
   "name": "python",
   "nbconvert_exporter": "python",
   "pygments_lexer": "ipython3",
   "version": "3.6.5"
  }
 },
 "nbformat": 4,
 "nbformat_minor": 2
}
