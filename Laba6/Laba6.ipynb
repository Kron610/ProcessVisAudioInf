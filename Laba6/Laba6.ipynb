{
 "cells": [
  {
   "cell_type": "code",
   "execution_count": 287,
   "metadata": {},
   "outputs": [],
   "source": [
    "import pandas as pd\n",
    "import numpy as np"
   ]
  },
  {
   "cell_type": "code",
   "execution_count": 288,
   "metadata": {},
   "outputs": [],
   "source": [
    "from PIL import Image, ImageFont, ImageDraw"
   ]
  },
  {
   "cell_type": "code",
   "execution_count": 348,
   "metadata": {},
   "outputs": [],
   "source": [
    "def toFixed(numObj, digits=3):\n",
    "    return f\"{numObj:.{digits}f}2\""
   ]
  },
  {
   "cell_type": "code",
   "execution_count": 289,
   "metadata": {},
   "outputs": [],
   "source": [
    "def foo(item):\n",
    "    if (item == 255):\n",
    "        return 1\n",
    "    return 0"
   ]
  },
  {
   "cell_type": "code",
   "execution_count": 290,
   "metadata": {},
   "outputs": [],
   "source": [
    "def weight_of_black(image, arr):\n",
    "    area = (arr[0], arr[1], arr[2], arr[3])\n",
    "    symbol = image.crop(area)\n",
    "    width, height = symbol.size\n",
    "    sum_ = 0\n",
    "    for x in range(width):\n",
    "        for y in range(height):\n",
    "            sum_ += foo(symbol.getpixel((x,y)))\n",
    "    return width * height - sum_, (width * height - sum_) / (width * height)"
   ]
  },
  {
   "cell_type": "code",
   "execution_count": 291,
   "metadata": {},
   "outputs": [],
   "source": [
    "def coords_of_center_of_gravity(image, arr):\n",
    "    area = (arr[0], arr[1], arr[2], arr[3])\n",
    "    symbol = image.crop(area)\n",
    "    width, height = symbol.size\n",
    "    sum1 = 0\n",
    "    sum2 = 0\n",
    "    for x in range(width):\n",
    "        for y in range(height):\n",
    "            sum1 += (x + 1) * (1 - foo(symbol.getpixel((x,y))))\n",
    "    for x in range(width):\n",
    "        for y in range(height):\n",
    "            sum2 += (y + 1) * (1 - foo(symbol.getpixel((x,y)))) \n",
    "    weight = weight_of_black(image, arr)\n",
    "    return sum1 / weight[0] , sum2 / weight[0]"
   ]
  },
  {
   "cell_type": "code",
   "execution_count": 292,
   "metadata": {},
   "outputs": [],
   "source": [
    "def norm_coords_of_center_of_gravity(image, arr):\n",
    "    area = (arr[0], arr[1], arr[2], arr[3])\n",
    "    symbol = image.crop(area)\n",
    "    width, height = symbol.size\n",
    "    sum1 = 0\n",
    "    sum2 = 0\n",
    "    for x in range(width):\n",
    "        for y in range(height):\n",
    "            sum1 += (x + 1)* (1 - foo(symbol.getpixel((x,y))))\n",
    "    for x in range(width):\n",
    "        for y in range(height):\n",
    "            sum2 += (y + 1) * (1 - foo(symbol.getpixel((x,y)))) \n",
    "    weight = weight_of_black(image, arr)[0]\n",
    "    return ((sum1 / weight) - 1) / (width - 1),  ((sum2 / weight) - 1) / (height - 1)"
   ]
  },
  {
   "cell_type": "code",
   "execution_count": 293,
   "metadata": {},
   "outputs": [],
   "source": [
    "def norm_axial_moments_of_inertia(image, arr):\n",
    "    area = (arr[0], arr[1], arr[2], arr[3])\n",
    "    symbol = image.crop(area)\n",
    "    width, height = symbol.size\n",
    "    sum1 = 0\n",
    "    sum2 = 0\n",
    "    center = coords_of_center_of_gravity(image, arr)\n",
    "    for x in range(width):\n",
    "        for y in range(height):\n",
    "            sum1 += ((1 - foo(symbol.getpixel((x,y)))) * ((y + 1 - center[1]) ** 2))\n",
    "    for x in range(width):\n",
    "        for y in range(height):\n",
    "            sum2 += ((1 - foo(symbol.getpixel((x,y)))) * ((x + 1 - center[0]) ** 2))\n",
    "    return sum1 / ((width ** 2) + (height ** 2)), sum2 / ((width ** 2) + (height ** 2))"
   ]
  },
  {
   "cell_type": "code",
   "execution_count": 294,
   "metadata": {},
   "outputs": [],
   "source": [
    "df_data = pd.read_csv(\"signs.csv\", sep=';')"
   ]
  },
  {
   "cell_type": "code",
   "execution_count": 392,
   "metadata": {},
   "outputs": [],
   "source": [
    "image = Image.open(\"cropped_text2.bmp\")"
   ]
  },
  {
   "cell_type": "code",
   "execution_count": 393,
   "metadata": {},
   "outputs": [],
   "source": [
    "image.show()"
   ]
  },
  {
   "cell_type": "code",
   "execution_count": 394,
   "metadata": {},
   "outputs": [],
   "source": [
    "with open(\"coords2.txt\") as file:\n",
    "    lines = file.readlines()"
   ]
  },
  {
   "cell_type": "code",
   "execution_count": 395,
   "metadata": {},
   "outputs": [],
   "source": [
    "arrs = []"
   ]
  },
  {
   "cell_type": "code",
   "execution_count": 396,
   "metadata": {},
   "outputs": [],
   "source": [
    "for line in lines:\n",
    "    string = line.split(' ')\n",
    "    string.pop()\n",
    "    arr = []\n",
    "    for item in string:\n",
    "        arr.append(int(item))\n",
    "    arrs.append(arr)"
   ]
  },
  {
   "cell_type": "code",
   "execution_count": 397,
   "metadata": {},
   "outputs": [
    {
     "data": {
      "text/plain": [
       "[[0, 7, 18, 26],\n",
       " [23, 0, 40, 33],\n",
       " [42, 7, 59, 33],\n",
       " [62, 0, 80, 26],\n",
       " [83, 7, 97, 26],\n",
       " [99, 0, 114, 33],\n",
       " [116, 7, 131, 33],\n",
       " [136, 0, 153, 26],\n",
       " [157, 7, 161, 26],\n",
       " [166, 7, 181, 26],\n",
       " [183, 0, 200, 26],\n",
       " [204, 7, 219, 33],\n",
       " [224, 7, 240, 26],\n",
       " [242, 0, 256, 33],\n",
       " [257, 7, 275, 26],\n",
       " [277, 7, 301, 26],\n",
       " [305, 7, 322, 33],\n",
       " [324, 7, 345, 26],\n",
       " [347, 7, 360, 26],\n",
       " [364, 7, 379, 26],\n",
       " [384, 7, 405, 33],\n",
       " [406, 7, 423, 33],\n",
       " [427, 7, 449, 33],\n",
       " [453, 7, 479, 26]]"
      ]
     },
     "execution_count": 397,
     "metadata": {},
     "output_type": "execute_result"
    }
   ],
   "source": [
    "arrs"
   ]
  },
  {
   "cell_type": "code",
   "execution_count": 398,
   "metadata": {},
   "outputs": [],
   "source": [
    "df = pd.DataFrame({'A' : [weight_of_black(image, arr)[1] for arr in arrs],\n",
    "                   'B' : [norm_coords_of_center_of_gravity(image, arr)[0] for arr in arrs],\n",
    "                   'C' : [norm_coords_of_center_of_gravity(image, arr)[1] for arr in arrs],\n",
    "                   'D' : [norm_axial_moments_of_inertia(image, arr)[0] for arr in arrs],\n",
    "                   'E' : [norm_axial_moments_of_inertia(image, arr)[1] for arr in arrs]})\n",
    "    "
   ]
  },
  {
   "cell_type": "code",
   "execution_count": 400,
   "metadata": {},
   "outputs": [],
   "source": [
    "def p_measure(d):\n",
    "    return 1/(1 + 0.8 * d)"
   ]
  },
  {
   "cell_type": "code",
   "execution_count": 401,
   "metadata": {},
   "outputs": [],
   "source": [
    "class Predictor:\n",
    "    def __init__(self, X, y):\n",
    "        self.X = X\n",
    "        self.y = y\n",
    "    def predict(self, X):\n",
    "        predictions = []\n",
    "        for vls in X:\n",
    "            d = 0\n",
    "            for index, value in enumerate(vls):\n",
    "                d += (self.X[:, index] - value)**2\n",
    "            d=np.sqrt(d)\n",
    "            idx = np.argsort(d)\n",
    "            predictions.append([(self.y[index], float(toFixed(p_measure(d[index]), 5))) for index in idx])\n",
    "        return predictions"
   ]
  },
  {
   "cell_type": "code",
   "execution_count": 402,
   "metadata": {},
   "outputs": [],
   "source": [
    "columns = ['symbol', 'B', 'E', 'F', 'I', 'J']"
   ]
  },
  {
   "cell_type": "code",
   "execution_count": 403,
   "metadata": {},
   "outputs": [],
   "source": [
    "train = df_data[columns]"
   ]
  },
  {
   "cell_type": "code",
   "execution_count": 404,
   "metadata": {},
   "outputs": [],
   "source": [
    "X_train = train.drop(columns = ['symbol']).values"
   ]
  },
  {
   "cell_type": "code",
   "execution_count": 406,
   "metadata": {},
   "outputs": [],
   "source": [
    "y_train = train['symbol'].values"
   ]
  },
  {
   "cell_type": "code",
   "execution_count": 407,
   "metadata": {},
   "outputs": [
    {
     "data": {
      "text/plain": [
       "array(['α', 'β', 'γ', 'δ', 'ε', 'ζ', 'η', 'θ', 'ι', 'κ', 'λ', 'μ', 'ν',\n",
       "       'ξ', 'ο', 'π', 'ρ', 'σ', 'τ', 'υ', 'φ', 'χ', 'ψ', 'ω'],\n",
       "      dtype=object)"
      ]
     },
     "execution_count": 407,
     "metadata": {},
     "output_type": "execute_result"
    }
   ],
   "source": [
    "y_train"
   ]
  },
  {
   "cell_type": "code",
   "execution_count": 408,
   "metadata": {},
   "outputs": [],
   "source": [
    "X_test = df.values"
   ]
  },
  {
   "cell_type": "code",
   "execution_count": 409,
   "metadata": {},
   "outputs": [],
   "source": [
    "mean_ = X_train.mean(axis=0)\n",
    "std_ = X_train.std(axis=0)\n",
    "\n",
    "X_train = (X_train - mean_) / std_\n",
    "X_test = (X_test - mean_) / std_"
   ]
  },
  {
   "cell_type": "code",
   "execution_count": 410,
   "metadata": {},
   "outputs": [],
   "source": [
    "max_ = X_train.max(axis=0)\n",
    "min_ = X_train.min(axis=0)\n",
    "\n",
    "X_train = (X_train - min_) / (max_ - min_)\n",
    "X_test = (X_test - min_) / (max_ - min_)"
   ]
  },
  {
   "cell_type": "code",
   "execution_count": 411,
   "metadata": {},
   "outputs": [],
   "source": [
    "predictor = Predictor(X_train, y_train)"
   ]
  },
  {
   "cell_type": "code",
   "execution_count": 412,
   "metadata": {},
   "outputs": [],
   "source": [
    "predictions = predictor.predict(X_test)"
   ]
  },
  {
   "cell_type": "code",
   "execution_count": 414,
   "metadata": {},
   "outputs": [],
   "source": [
    "with open(\"predictions2.txt\", 'w', encoding = \"utf-8\") as f:\n",
    "    for item in predictions:\n",
    "        f.write(str(item) + \"\\n\")"
   ]
  },
  {
   "cell_type": "code",
   "execution_count": 390,
   "metadata": {},
   "outputs": [],
   "source": [
    "string = ''\n",
    "for item in predictions:\n",
    "    string += item[0][0]"
   ]
  },
  {
   "cell_type": "code",
   "execution_count": 391,
   "metadata": {},
   "outputs": [
    {
     "data": {
      "text/plain": [
       "'πλαγχθπμημιτμοιπζιμμονητολιμθμον'"
      ]
     },
     "execution_count": 391,
     "metadata": {},
     "output_type": "execute_result"
    }
   ],
   "source": [
    "string"
   ]
  },
  {
   "cell_type": "code",
   "execution_count": null,
   "metadata": {},
   "outputs": [],
   "source": []
  }
 ],
 "metadata": {
  "kernelspec": {
   "display_name": "Python 3",
   "language": "python",
   "name": "python3"
  },
  "language_info": {
   "codemirror_mode": {
    "name": "ipython",
    "version": 3
   },
   "file_extension": ".py",
   "mimetype": "text/x-python",
   "name": "python",
   "nbconvert_exporter": "python",
   "pygments_lexer": "ipython3",
   "version": "3.6.5"
  }
 },
 "nbformat": 4,
 "nbformat_minor": 2
}
