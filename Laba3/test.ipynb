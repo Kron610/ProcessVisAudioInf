{
 "cells": [
  {
   "cell_type": "code",
   "execution_count": 91,
   "metadata": {},
   "outputs": [],
   "source": [
    "from PIL import Image\n",
    "import numpy as np\n",
    "import sys\n",
    "from math import floor"
   ]
  },
  {
   "cell_type": "code",
   "execution_count": 92,
   "metadata": {},
   "outputs": [],
   "source": [
    "sys.path.insert(1, 'C:/Users/gerko/Documents/ProcessVisAudioInf/Laba1/functions')\n"
   ]
  },
  {
   "cell_type": "code",
   "execution_count": 93,
   "metadata": {},
   "outputs": [],
   "source": [
    "from semitone import change_to_semitone\n",
    "from binarisation import change_to_binary"
   ]
  },
  {
   "cell_type": "code",
   "execution_count": 94,
   "metadata": {},
   "outputs": [],
   "source": [
    "def get_Gx(image):\n",
    "    width, height = image.size\n",
    "    Gx = np.zeros((width, height)) \n",
    "    max_x = 0\n",
    "    for x in range(width):\n",
    "        for y in range (height):\n",
    "            if (x == width - 1 or y == height - 1):\n",
    "                Gx[x][y] = 0\n",
    "                continue\n",
    "            bright_x = image.getpixel((x + 1,y + 1)) - image.getpixel((x,y))\n",
    "            Gx[x][y] = bright_x\n",
    "            if (max_x < bright_x):\n",
    "                max_x = bright_x\n",
    "    return Gx, max_x"
   ]
  },
  {
   "cell_type": "code",
   "execution_count": 49,
   "metadata": {},
   "outputs": [],
   "source": [
    "def get_Gy(image):\n",
    "    width, height = image.size\n",
    "    Gy = np.zeros((width, height)) \n",
    "    max_y = 0\n",
    "    for x in range(width):\n",
    "        for y in range (height):\n",
    "            if (x == width - 1 or y == height - 1):\n",
    "                Gy[x][y] = 0\n",
    "                continue\n",
    "            bright_y = image.getpixel((x,y + 1)) - image.getpixel((x + 1,y))\n",
    "            Gy[x][y] = bright_y\n",
    "            if (max_y < bright_y):\n",
    "                max_y = bright_y\n",
    "    return Gy, max_y"
   ]
  },
  {
   "cell_type": "code",
   "execution_count": 50,
   "metadata": {},
   "outputs": [],
   "source": [
    "def get_gradient(Gx, Gy):\n",
    "    width, height = Gx.shape\n",
    "    G = np.zeros((width, height))\n",
    "    max_g = 0\n",
    "    for x in range(width):\n",
    "        for y in range(height):\n",
    "            G[x][y] = abs(Gy[x][y]) + abs(Gx[x][y])\n",
    "            if (max_g < G[x][y]):\n",
    "                max_g = G[x][y]\n",
    "    return G, max_g"
   ]
  },
  {
   "cell_type": "code",
   "execution_count": 51,
   "metadata": {},
   "outputs": [],
   "source": [
    "def get_normalize(matrix, max_value):\n",
    "    width, height = matrix.shape\n",
    "    new_image = Image.new('P', (width, height))\n",
    "    for x in range(width):\n",
    "        for y in range(height):\n",
    "            value = floor(matrix[x][y] * 255 / max_value)\n",
    "            new_image.putpixel((x,y), value)\n",
    "    return new_image"
   ]
  },
  {
   "cell_type": "code",
   "execution_count": 52,
   "metadata": {},
   "outputs": [],
   "source": [
    "Olaf_image = change_to_semitone(Image.open(\"pictures/Olaf.png\"))"
   ]
  },
  {
   "cell_type": "code",
   "execution_count": 54,
   "metadata": {},
   "outputs": [],
   "source": [
    "Gx, max_x = get_Gx(Olaf_image)"
   ]
  },
  {
   "cell_type": "code",
   "execution_count": 55,
   "metadata": {},
   "outputs": [],
   "source": [
    "Gy, max_y = get_Gy(Olaf_image)"
   ]
  },
  {
   "cell_type": "code",
   "execution_count": 56,
   "metadata": {},
   "outputs": [],
   "source": [
    "G, max_g = get_gradient(Gx, Gy)\n"
   ]
  },
  {
   "cell_type": "code",
   "execution_count": 57,
   "metadata": {},
   "outputs": [],
   "source": [
    "Gx_image = get_normalize(Gx, max_x)\n",
    "Gy_image = get_normalize(Gy, max_y)\n",
    "G_image = get_normalize(G, max_g)"
   ]
  },
  {
   "cell_type": "code",
   "execution_count": 72,
   "metadata": {},
   "outputs": [],
   "source": [
    "binary_gradient_image = change_to_binary(G_image, 1)"
   ]
  },
  {
   "cell_type": "code",
   "execution_count": 73,
   "metadata": {},
   "outputs": [],
   "source": [
    "binary_gradient_image.show()"
   ]
  },
  {
   "cell_type": "code",
   "execution_count": 74,
   "metadata": {},
   "outputs": [],
   "source": [
    "Gx_image.save(\"pictures/Olaf_Gx.png\")"
   ]
  },
  {
   "cell_type": "code",
   "execution_count": 75,
   "metadata": {},
   "outputs": [],
   "source": [
    "Gy_image.save(\"pictures/Olaf_Gy.png\")"
   ]
  },
  {
   "cell_type": "code",
   "execution_count": 76,
   "metadata": {},
   "outputs": [],
   "source": [
    "G_image.save(\"pictures/Olaf_G.png\")"
   ]
  },
  {
   "cell_type": "code",
   "execution_count": 77,
   "metadata": {},
   "outputs": [],
   "source": [
    "binary_gradient_image.save(\"pictures/Olaf_binary_gradient.png\")"
   ]
  },
  {
   "cell_type": "code",
   "execution_count": 95,
   "metadata": {},
   "outputs": [],
   "source": [
    "Yoda_image = change_to_semitone(Image.open(\"pictures/Baby_Yoda.png\"))"
   ]
  },
  {
   "cell_type": "code",
   "execution_count": 96,
   "metadata": {},
   "outputs": [],
   "source": [
    "Gx, max_x = get_Gx(Yoda_image)"
   ]
  },
  {
   "cell_type": "code",
   "execution_count": 97,
   "metadata": {},
   "outputs": [],
   "source": [
    "Gy, max_y = get_Gy(Yoda_image)"
   ]
  },
  {
   "cell_type": "code",
   "execution_count": 98,
   "metadata": {},
   "outputs": [],
   "source": [
    "G, max_g = get_gradient(Gx, Gy)"
   ]
  },
  {
   "cell_type": "code",
   "execution_count": 99,
   "metadata": {},
   "outputs": [],
   "source": [
    "Gx_image = get_normalize(Gx, max_x)\n",
    "Gy_image = get_normalize(Gy, max_y)\n",
    "G_image = get_normalize(G, max_g)"
   ]
  },
  {
   "cell_type": "code",
   "execution_count": 100,
   "metadata": {},
   "outputs": [],
   "source": [
    "binary_gradient_image = change_to_binary(G_image, 1)"
   ]
  },
  {
   "cell_type": "code",
   "execution_count": 102,
   "metadata": {},
   "outputs": [],
   "source": [
    "binary_gradient_image.show()"
   ]
  },
  {
   "cell_type": "code",
   "execution_count": 103,
   "metadata": {},
   "outputs": [],
   "source": [
    "G_image.show()"
   ]
  },
  {
   "cell_type": "code",
   "execution_count": null,
   "metadata": {},
   "outputs": [],
   "source": []
  }
 ],
 "metadata": {
  "kernelspec": {
   "display_name": "Python 3",
   "language": "python",
   "name": "python3"
  },
  "language_info": {
   "codemirror_mode": {
    "name": "ipython",
    "version": 3
   },
   "file_extension": ".py",
   "mimetype": "text/x-python",
   "name": "python",
   "nbconvert_exporter": "python",
   "pygments_lexer": "ipython3",
   "version": "3.6.5"
  }
 },
 "nbformat": 4,
 "nbformat_minor": 2
}
