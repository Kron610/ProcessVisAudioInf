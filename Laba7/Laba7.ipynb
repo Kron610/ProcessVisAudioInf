{
 "cells": [
  {
   "cell_type": "code",
   "execution_count": 2,
   "metadata": {},
   "outputs": [],
   "source": [
    "from PIL import Image"
   ]
  },
  {
   "cell_type": "code",
   "execution_count": 5,
   "metadata": {},
   "outputs": [],
   "source": [
    "import numpy as np"
   ]
  },
  {
   "cell_type": "code",
   "execution_count": 140,
   "metadata": {},
   "outputs": [],
   "source": [
    "from math import floor, log2"
   ]
  },
  {
   "cell_type": "code",
   "execution_count": 20,
   "metadata": {},
   "outputs": [],
   "source": [
    "def change_to_halftone(image):\n",
    "    width, height = image.size\n",
    "    newImage = Image.new('P', (width, height))\n",
    "    for x in range(width):\n",
    "        for y in range(height):\n",
    "            color = image.getpixel((x,y))\n",
    "            bright = floor(0.3 * color[0] + 0.59 * color[1] +  0.11 *color[2])\n",
    "            newImage.putpixel((x, y), bright)\n",
    "    return newImage"
   ]
  },
  {
   "cell_type": "code",
   "execution_count": 114,
   "metadata": {},
   "outputs": [],
   "source": [
    "image = Image.open(\"pictures/picture2.jpg\")"
   ]
  },
  {
   "cell_type": "code",
   "execution_count": 115,
   "metadata": {},
   "outputs": [],
   "source": [
    "image.show()"
   ]
  },
  {
   "cell_type": "code",
   "execution_count": 116,
   "metadata": {},
   "outputs": [],
   "source": [
    "image = change_to_halftone(image)"
   ]
  },
  {
   "cell_type": "code",
   "execution_count": 117,
   "metadata": {},
   "outputs": [],
   "source": [
    "image.show()"
   ]
  },
  {
   "cell_type": "code",
   "execution_count": 118,
   "metadata": {},
   "outputs": [],
   "source": [
    "arr = np.zeros((256,256), dtype='uint32')"
   ]
  },
  {
   "cell_type": "code",
   "execution_count": 119,
   "metadata": {},
   "outputs": [],
   "source": [
    "width, height = image.size"
   ]
  },
  {
   "cell_type": "code",
   "execution_count": 120,
   "metadata": {},
   "outputs": [],
   "source": [
    "for x in range(width):\n",
    "    for y in range(height):\n",
    "        if (x != 0):\n",
    "            arr[image.getpixel((x,y))][image.getpixel((x-1,y))]+=1\n",
    "        if (x != width - 1):\n",
    "            arr[image.getpixel((x,y))][image.getpixel((x+1,y))]+=1\n",
    "        if (y != 0):\n",
    "            arr[image.getpixel((x,y))][image.getpixel((x,y-1))]+=1\n",
    "        if (y != height - 1):\n",
    "            arr[image.getpixel((x,y))][image.getpixel((x,y+1))]+=1"
   ]
  },
  {
   "cell_type": "code",
   "execution_count": 121,
   "metadata": {},
   "outputs": [],
   "source": [
    "matrix_image = Image.new('P', (256, 256))"
   ]
  },
  {
   "cell_type": "code",
   "execution_count": 122,
   "metadata": {},
   "outputs": [],
   "source": [
    "data = matrix_image.load()"
   ]
  },
  {
   "cell_type": "code",
   "execution_count": 123,
   "metadata": {},
   "outputs": [],
   "source": [
    "max_ = max([max(item) for item in arr])"
   ]
  },
  {
   "cell_type": "code",
   "execution_count": 124,
   "metadata": {},
   "outputs": [],
   "source": [
    "for x in range(256):\n",
    "    for y in range(256):\n",
    "        data[x,y] = int((arr[x][y] * 255 / max_))"
   ]
  },
  {
   "cell_type": "code",
   "execution_count": 125,
   "metadata": {},
   "outputs": [
    {
     "data": {
      "image/png": "[encoded data removed]",
      "text/plain": [
       "<PIL.Image.Image image mode=P size=256x256 at 0x2003107E3C8>"
      ]
     },
     "execution_count": 125,
     "metadata": {},
     "output_type": "execute_result"
    }
   ],
   "source": [
    "matrix_image\n"
   ]
  },
  {
   "cell_type": "code",
   "execution_count": 126,
   "metadata": {},
   "outputs": [],
   "source": [
    "matrix_image.save(\"pictures/matrix_image2.bmp\")"
   ]
  },
  {
   "cell_type": "code",
   "execution_count": 130,
   "metadata": {},
   "outputs": [],
   "source": [
    "def energy(matrix):\n",
    "    ASM = 0\n",
    "    for x in range(256):\n",
    "        for y in range(256):\n",
    "            ASM += matrix[x][y] ** 2\n",
    "    return ASM"
   ]
  },
  {
   "cell_type": "code",
   "execution_count": 132,
   "metadata": {},
   "outputs": [],
   "source": [
    "ASM = energy(arr)"
   ]
  },
  {
   "cell_type": "code",
   "execution_count": null,
   "metadata": {},
   "outputs": [],
   "source": [
    "max_probability(matrix):\n",
    "    MPR = "
   ]
  },
  {
   "cell_type": "code",
   "execution_count": 134,
   "metadata": {},
   "outputs": [],
   "source": [
    "K = 4 * width * height - 2 * (width + height)"
   ]
  },
  {
   "cell_type": "code",
   "execution_count": 135,
   "metadata": {},
   "outputs": [
    {
     "data": {
      "text/plain": [
       "4910720"
      ]
     },
     "execution_count": 135,
     "metadata": {},
     "output_type": "execute_result"
    }
   ],
   "source": [
    "K"
   ]
  },
  {
   "cell_type": "code",
   "execution_count": 136,
   "metadata": {},
   "outputs": [],
   "source": [
    "arr = np.zeros((256,256), dtype='float')"
   ]
  },
  {
   "cell_type": "code",
   "execution_count": 137,
   "metadata": {},
   "outputs": [],
   "source": [
    "for x in range(width):\n",
    "    for y in range(height):\n",
    "        if (x != 0):\n",
    "            arr[image.getpixel((x,y))][image.getpixel((x-1,y))]+=1\n",
    "        if (x != width - 1):\n",
    "            arr[image.getpixel((x,y))][image.getpixel((x+1,y))]+=1\n",
    "        if (y != 0):\n",
    "            arr[image.getpixel((x,y))][image.getpixel((x,y-1))]+=1\n",
    "        if (y != height - 1):\n",
    "            arr[image.getpixel((x,y))][image.getpixel((x,y+1))]+=1"
   ]
  },
  {
   "cell_type": "code",
   "execution_count": 138,
   "metadata": {},
   "outputs": [],
   "source": [
    "for x in range(256):\n",
    "    for y in range(256):\n",
    "        arr[x][y] /= K"
   ]
  },
  {
   "cell_type": "code",
   "execution_count": 139,
   "metadata": {},
   "outputs": [],
   "source": [
    "def max_probability(matrix):\n",
    "    return max([max(item) for item in matrix])"
   ]
  },
  {
   "cell_type": "code",
   "execution_count": 156,
   "metadata": {},
   "outputs": [],
   "source": [
    "def entropy(matrix):\n",
    "    ENT = 0\n",
    "    for x in range(256):\n",
    "        for y in range(256):\n",
    "            if (matrix[x][y] > 0):\n",
    "                ENT += matrix[x][y] * log2(matrix[x][y])\n",
    "    return -ENT"
   ]
  },
  {
   "cell_type": "code",
   "execution_count": 160,
   "metadata": {},
   "outputs": [],
   "source": [
    "def trace(matrix):\n",
    "    return np.trace(matrix)"
   ]
  },
  {
   "cell_type": "code",
   "execution_count": 166,
   "metadata": {},
   "outputs": [],
   "source": [
    "def get_matrix_image(image):\n",
    "    new_image = change_to_halftone(image)\n",
    "    arr = np.zeros((256,256), dtype='uint32')\n",
    "    width, height = new_image.size\n",
    "    for x in range(width):\n",
    "        for y in range(height):\n",
    "            if (x != 0):\n",
    "                arr[new_image.getpixel((x,y))][new_image.getpixel((x-1,y))]+=1\n",
    "            if (x != width - 1):\n",
    "                arr[new_image.getpixel((x,y))][new_image.getpixel((x+1,y))]+=1\n",
    "            if (y != 0):\n",
    "                arr[new_image.getpixel((x,y))][new_image.getpixel((x,y-1))]+=1\n",
    "            if (y != height - 1):\n",
    "                arr[new_image.getpixel((x,y))][new_image.getpixel((x,y+1))]+=1\n",
    "    matrix_image = Image.new('P', (256, 256))\n",
    "    data = matrix_image.load()\n",
    "    max_ = max([max(item) for item in arr])\n",
    "    for x in range(256):\n",
    "        for y in range(256):\n",
    "            data[x,y] = int((arr[x][y] * 255 / max_))\n",
    "    return matrix_image"
   ]
  },
  {
   "cell_type": "code",
   "execution_count": 167,
   "metadata": {},
   "outputs": [],
   "source": [
    "def get_signs(image):\n",
    "    new_image = change_to_halftone(image)\n",
    "    arr = np.zeros((256,256), dtype='float')\n",
    "    width, height = new_image.size\n",
    "    for x in range(width):\n",
    "        for y in range(height):\n",
    "            if (x != 0):\n",
    "                arr[new_image.getpixel((x,y))][new_image.getpixel((x-1,y))]+=1\n",
    "            if (x != width - 1):\n",
    "                arr[new_image.getpixel((x,y))][new_image.getpixel((x+1,y))]+=1\n",
    "            if (y != 0):\n",
    "                arr[new_image.getpixel((x,y))][new_image.getpixel((x,y-1))]+=1\n",
    "            if (y != height - 1):\n",
    "                arr[new_image.getpixel((x,y))][new_image.getpixel((x,y+1))]+=1\n",
    "    K = 4 * width * height - 2 * (width + height)\n",
    "    for x in range(256):\n",
    "        for y in range(256):\n",
    "            arr[x][y] /= K\n",
    "    return (energy(arr), max_probability(arr), entropy(arr), trace(arr))"
   ]
  },
  {
   "cell_type": "code",
   "execution_count": 172,
   "metadata": {},
   "outputs": [],
   "source": [
    "image = Image.open(\"pictures/picture4.jpg\")"
   ]
  },
  {
   "cell_type": "code",
   "execution_count": 173,
   "metadata": {},
   "outputs": [],
   "source": [
    "matrix_image = get_matrix_image(image)"
   ]
  },
  {
   "cell_type": "code",
   "execution_count": 174,
   "metadata": {},
   "outputs": [],
   "source": [
    "matrix_image.save(\"pictures/matrix_image4.bmp\")"
   ]
  },
  {
   "cell_type": "code",
   "execution_count": 175,
   "metadata": {},
   "outputs": [
    {
     "data": {
      "image/png": "[encoded data removed]",
      "text/plain": [
       "<PIL.Image.Image image mode=P size=256x256 at 0x200310A64A8>"
      ]
     },
     "execution_count": 175,
     "metadata": {},
     "output_type": "execute_result"
    }
   ],
   "source": [
    "matrix_image"
   ]
  },
  {
   "cell_type": "code",
   "execution_count": 182,
   "metadata": {},
   "outputs": [],
   "source": [
    "image = Image.open(\"pictures/picture4.jpg\")"
   ]
  },
  {
   "cell_type": "code",
   "execution_count": 183,
   "metadata": {},
   "outputs": [
    {
     "data": {
      "text/plain": [
       "(0.00021065387792537093,\n",
       " 0.0006004499574364588,\n",
       " 12.781654402756233,\n",
       " 0.051173537638331504)"
      ]
     },
     "execution_count": 183,
     "metadata": {},
     "output_type": "execute_result"
    }
   ],
   "source": [
    "get_signs(image)"
   ]
  },
  {
   "cell_type": "code",
   "execution_count": null,
   "metadata": {},
   "outputs": [],
   "source": []
  }
 ],
 "metadata": {
  "kernelspec": {
   "display_name": "Python 3",
   "language": "python",
   "name": "python3"
  },
  "language_info": {
   "codemirror_mode": {
    "name": "ipython",
    "version": 3
   },
   "file_extension": ".py",
   "mimetype": "text/x-python",
   "name": "python",
   "nbconvert_exporter": "python",
   "pygments_lexer": "ipython3",
   "version": "3.6.5"
  }
 },
 "nbformat": 4,
 "nbformat_minor": 2
}
