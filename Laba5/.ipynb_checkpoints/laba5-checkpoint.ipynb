{
 "cells": [
  {
   "cell_type": "code",
   "execution_count": 1,
   "metadata": {},
   "outputs": [],
   "source": [
    "from PIL import Image, ImageFont, ImageDraw"
   ]
  },
  {
   "cell_type": "code",
   "execution_count": 23,
   "metadata": {},
   "outputs": [],
   "source": [
    "import matplotlib.pyplot as plt\n",
    "from matplotlib import transforms"
   ]
  },
  {
   "cell_type": "code",
   "execution_count": 2,
   "metadata": {},
   "outputs": [],
   "source": [
    "def crop(image):\n",
    "    width, height = image.size\n",
    "    flag = False\n",
    "    left_boarder = 0\n",
    "    right_boarder = width - 1\n",
    "    top_boarder = 0\n",
    "    bottom_boarder = height - 1\n",
    "    for x in range(width):\n",
    "        if (flag):\n",
    "            left_boarder = x - 1\n",
    "            break\n",
    "        for y in range(height):\n",
    "            if (image.getpixel((x,y)) == 0):\n",
    "                flag = True\n",
    "                break\n",
    "    flag = False\n",
    "    for x in range(width-1, -1, -1):\n",
    "        if (flag):\n",
    "            right_boarder = x + 2\n",
    "            break\n",
    "        for y in range(height):\n",
    "            if (image.getpixel((x,y)) == 0):\n",
    "                flag = True\n",
    "                break\n",
    "    flag = False\n",
    "    for y in range(height):\n",
    "        if (flag):\n",
    "            top_boarder = y - 1\n",
    "            break\n",
    "        for x in range(width):\n",
    "            if (image.getpixel((x,y)) == 0):\n",
    "                flag = True\n",
    "                break\n",
    "    flag = False\n",
    "    for y in range(height - 1, -1 , -1):\n",
    "        if (flag):\n",
    "            bottom_boarder = y + 2\n",
    "            break\n",
    "        for x in range(width):\n",
    "            if (image.getpixel((x,y)) == 0):\n",
    "                flag = True\n",
    "                break\n",
    "    area = (left_boarder, top_boarder, right_boarder, bottom_boarder)\n",
    "    cropped_image = image.crop(area)\n",
    "    return cropped_image"
   ]
  },
  {
   "cell_type": "code",
   "execution_count": 19,
   "metadata": {},
   "outputs": [],
   "source": [
    "def foo(item):\n",
    "    if (item == 255):\n",
    "        return 1\n",
    "    return 0"
   ]
  },
  {
   "cell_type": "code",
   "execution_count": 3,
   "metadata": {},
   "outputs": [],
   "source": [
    "image = Image.open(\"string.png\")\n"
   ]
  },
  {
   "cell_type": "code",
   "execution_count": 4,
   "metadata": {},
   "outputs": [],
   "source": [
    "new_image = image.convert('1')"
   ]
  },
  {
   "cell_type": "code",
   "execution_count": 5,
   "metadata": {},
   "outputs": [],
   "source": [
    "new_image.show()\n"
   ]
  },
  {
   "cell_type": "code",
   "execution_count": 7,
   "metadata": {},
   "outputs": [],
   "source": [
    "new_image = crop(new_image)"
   ]
  },
  {
   "cell_type": "code",
   "execution_count": 9,
   "metadata": {},
   "outputs": [],
   "source": [
    "new_image.save(\"cropped_text.bmp\")"
   ]
  },
  {
   "cell_type": "code",
   "execution_count": 10,
   "metadata": {},
   "outputs": [],
   "source": [
    "width, height = new_image.size"
   ]
  },
  {
   "cell_type": "code",
   "execution_count": 20,
   "metadata": {},
   "outputs": [
    {
     "data": {
      "text/plain": [
       "255"
      ]
     },
     "execution_count": 20,
     "metadata": {},
     "output_type": "execute_result"
    }
   ],
   "source": [
    "new_image.getpixel((1,13))"
   ]
  },
  {
   "cell_type": "code",
   "execution_count": 21,
   "metadata": {},
   "outputs": [],
   "source": [
    "x = range(width)\n",
    "y = [sum([1 - foo(new_image.getpixel((x,y))) for y in range(height)]) for x in range(width)]"
   ]
  },
  {
   "cell_type": "code",
   "execution_count": 24,
   "metadata": {
    "scrolled": true
   },
   "outputs": [
    {
     "data": {
      "text/plain": [
       "<matplotlib.collections.PolyCollection at 0x16e11408898>"
      ]
     },
     "execution_count": 24,
     "metadata": {},
     "output_type": "execute_result"
    },
    {
     "data": {
      "image/png": "[encoded data removed]",
      "text/plain": [
       "<Figure size 432x288 with 1 Axes>"
      ]
     },
     "metadata": {},
     "output_type": "display_data"
    }
   ],
   "source": [
    "plt.plot(x, y, color = 'green')\n",
    "plt.fill_between(x, [0 for _ in range(width)], y, facecolor = 'green')"
   ]
  },
  {
   "cell_type": "code",
   "execution_count": 25,
   "metadata": {},
   "outputs": [],
   "source": [
    "boundaries = []"
   ]
  },
  {
   "cell_type": "code",
   "execution_count": null,
   "metadata": {},
   "outputs": [],
   "source": [
    "dif = 7"
   ]
  },
  {
   "cell_type": "code",
   "execution_count": 27,
   "metadata": {},
   "outputs": [],
   "source": [
    "left = 0\n",
    "flag = True\n",
    "for item in x:\n",
    "    if(item == len(x) - 1):\n",
    "        right = item\n",
    "        boundaries.append((left, right))\n",
    "        break\n",
    "    if (flag):\n",
    "        if(y[item] - 7 > y[item+1]):\n",
    "            right = item\n",
    "            boundaries.append((left,right))\n",
    "            flag = False\n",
    "    else:\n",
    "        if (y[item] + 7 < y[item+1]):\n",
    "            left = item\n",
    "            flag = True\n",
    "        \n",
    "        \n",
    "    "
   ]
  },
  {
   "cell_type": "code",
   "execution_count": null,
   "metadata": {},
   "outputs": [],
   "source": []
  },
  {
   "cell_type": "raw",
   "metadata": {},
   "source": []
  }
 ],
 "metadata": {
  "kernelspec": {
   "display_name": "Python 3",
   "language": "python",
   "name": "python3"
  },
  "language_info": {
   "codemirror_mode": {
    "name": "ipython",
    "version": 3
   },
   "file_extension": ".py",
   "mimetype": "text/x-python",
   "name": "python",
   "nbconvert_exporter": "python",
   "pygments_lexer": "ipython3",
   "version": "3.6.5"
  }
 },
 "nbformat": 4,
 "nbformat_minor": 2
}
